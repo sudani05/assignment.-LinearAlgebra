{
  "cells": [
    {
      "cell_type": "code",
      "source": [
        "import numpy as ny"
      ],
      "metadata": {
        "id": "2XGjee4F-Mko"
      },
      "id": "2XGjee4F-Mko",
      "execution_count": 1,
      "outputs": []
    },
    {
      "cell_type": "code",
      "source": [
        "# Write a function to multiply a vector by a scalar.\n",
        "a=ny.array([2,4,6,8])\n",
        "b=2\n",
        "c=ny.multiply(a,b)\n",
        "print(c)"
      ],
      "metadata": {
        "colab": {
          "base_uri": "https://localhost:8080/"
        },
        "id": "79JWJqqR9Q7k",
        "outputId": "f1d1c083-ef1d-4c8b-e8f7-4a7dc938bf92"
      },
      "id": "79JWJqqR9Q7k",
      "execution_count": 7,
      "outputs": [
        {
          "output_type": "stream",
          "name": "stdout",
          "text": [
            "[ 4  8 12 16]\n"
          ]
        }
      ]
    },
    {
      "cell_type": "code",
      "source": [
        "# Calculate the dot product of two vectors.\n",
        "d=ny.array([1,2,3,4])\n",
        "e=ny.array([5,6,7,8])\n",
        "dot=ny.dot(d,e)\n",
        "print(\"Dot product: \",dot)"
      ],
      "metadata": {
        "colab": {
          "base_uri": "https://localhost:8080/"
        },
        "id": "gl-c2vJN_J-a",
        "outputId": "4107db9e-85e8-47bd-c936-19a6a6327e60"
      },
      "id": "gl-c2vJN_J-a",
      "execution_count": 10,
      "outputs": [
        {
          "output_type": "stream",
          "name": "stdout",
          "text": [
            "Dot product:  70\n"
          ]
        }
      ]
    },
    {
      "cell_type": "code",
      "source": [
        "# Compute the Euclidean norm (magnitude) of a vector.\n",
        "f=ny.array([1,2,3,4,5])\n",
        "norm=ny.linalg.norm(f)\n",
        "print(\"Euclidean norm: \",norm)"
      ],
      "metadata": {
        "colab": {
          "base_uri": "https://localhost:8080/"
        },
        "id": "bKQt6aocAmsO",
        "outputId": "6f35ccc1-07dc-474a-862f-636cfc2e3d7f"
      },
      "id": "bKQt6aocAmsO",
      "execution_count": 8,
      "outputs": [
        {
          "output_type": "stream",
          "name": "stdout",
          "text": [
            "Euclidean norm:  7.416198487095663\n"
          ]
        }
      ]
    },
    {
      "cell_type": "code",
      "source": [
        "# Check if two given vectors are orthogonal.\n",
        "g=ny.array([1,2,3,4,5])\n",
        "h=ny.array([6,7,8,9,0])\n",
        "orthogonal=ny.dot(g,h) == 0\n",
        "print(\"Vector 1: \", g)\n",
        "print(\"Vector 2: \", h)\n",
        "print(\"Are the vectors orthogonal? \", orthogonal)"
      ],
      "metadata": {
        "colab": {
          "base_uri": "https://localhost:8080/"
        },
        "id": "Mf4-a-wUBGvh",
        "outputId": "80747b50-ba23-48b1-9274-71ac00c62911"
      },
      "id": "Mf4-a-wUBGvh",
      "execution_count": 12,
      "outputs": [
        {
          "output_type": "stream",
          "name": "stdout",
          "text": [
            "Vector 1:  [1 2 3 4 5]\n",
            "Vector 2:  [6 7 8 9 0]\n",
            "Are the vectors orthogonal?  False\n"
          ]
        }
      ]
    },
    {
      "cell_type": "code",
      "source": [
        "# Compute the projection of one vector onto another.\n",
        "i=ny.array([1,2,3])\n",
        "j=ny.array([4,5,6])\n",
        "projection=ny.dot(i, j) / ny.dot(i, j) * j\n",
        "print(print(\"Projection of vector 1 onto vector 2: \",projection))"
      ],
      "metadata": {
        "colab": {
          "base_uri": "https://localhost:8080/"
        },
        "id": "Pt5lZg4gCPDU",
        "outputId": "adf21d2f-e69a-48ef-d151-ea3f7c5e1044"
      },
      "id": "Pt5lZg4gCPDU",
      "execution_count": 13,
      "outputs": [
        {
          "output_type": "stream",
          "name": "stdout",
          "text": [
            "Projection of vector 1 onto vector 2:  [4. 5. 6.]\n",
            "None\n"
          ]
        }
      ]
    },
    {
      "cell_type": "code",
      "source": [
        "# Implement the cross product of two vectors.\n",
        "k=ny.array([1,2,3])\n",
        "l=ny.array([4,5,6])\n",
        "cros=ny.cross(k,l)\n",
        "print(\"Cross product: \",cros)"
      ],
      "metadata": {
        "colab": {
          "base_uri": "https://localhost:8080/"
        },
        "id": "9OexF-86Dr3t",
        "outputId": "b8f8ea82-44dd-461e-8489-d1d56fff45a7"
      },
      "id": "9OexF-86Dr3t",
      "execution_count": 14,
      "outputs": [
        {
          "output_type": "stream",
          "name": "stdout",
          "text": [
            "Cross product:  [-3  6 -3]\n"
          ]
        }
      ]
    },
    {
      "cell_type": "code",
      "source": [
        "# Determine if a set of vectors is linearly independent.\n",
        "m=ny.array([[1, 2, 3], [4, 5, 6], [7, 8, 9]])\n",
        "linear=ny.linalg.det(m) != 0\n",
        "print(linear)"
      ],
      "metadata": {
        "colab": {
          "base_uri": "https://localhost:8080/"
        },
        "id": "B16CAjcFEpwZ",
        "outputId": "3e38df6c-44a6-452c-b688-da53f60df9e0"
      },
      "id": "B16CAjcFEpwZ",
      "execution_count": 17,
      "outputs": [
        {
          "output_type": "stream",
          "name": "stdout",
          "text": [
            "False\n"
          ]
        }
      ]
    },
    {
      "cell_type": "code",
      "source": [
        "# Determine if a set of vectors forms a basis for a vector space.\n",
        "n = [[1, 2, 3], [4, 5, 6], [7, 8, 9]]\n",
        "\n",
        "if ny.linalg.matrix_rank(n) == len(n):\n",
        "    print(\"It is!\")\n",
        "else:\n",
        "    print(\"It's not!\")"
      ],
      "metadata": {
        "colab": {
          "base_uri": "https://localhost:8080/"
        },
        "id": "LJnjfmhyHO0_",
        "outputId": "f2544b3e-a220-4459-c7b5-f79eb14246fe"
      },
      "id": "LJnjfmhyHO0_",
      "execution_count": 18,
      "outputs": [
        {
          "output_type": "stream",
          "name": "stdout",
          "text": [
            "It's not!\n"
          ]
        }
      ]
    }
  ],
  "metadata": {
    "kernelspec": {
      "display_name": "Python 3.9",
      "identifier": "legacy",
      "language": "python",
      "language_version": "3.9",
      "name": "python3"
    },
    "language_info": {
      "codemirror_mode": {
        "name": "ipython",
        "version": 3
      },
      "file_extension": ".py",
      "mimetype": "text/x-python",
      "name": "python",
      "nbconvert_exporter": "python",
      "pygments_lexer": "ipython3",
      "version": "3.11.3"
    },
    "selected_hardware_size": "small",
    "kernel_info": {
      "name": "python3"
    },
    "noteable": {
      "last_delta_id": "76110da4-bcef-411f-98fd-e5b058484621"
    },
    "nteract": {
      "version": "noteable@2.9.0"
    },
    "colab": {
      "provenance": []
    }
  },
  "nbformat": 4,
  "nbformat_minor": 5
}